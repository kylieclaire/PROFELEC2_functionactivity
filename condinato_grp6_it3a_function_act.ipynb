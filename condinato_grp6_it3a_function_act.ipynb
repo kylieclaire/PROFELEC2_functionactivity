{
 "cells": [
  {
   "cell_type": "code",
   "execution_count": 1,
   "id": "aed741d0-633d-4825-a28a-4bc5c0d764bd",
   "metadata": {},
   "outputs": [
    {
     "name": "stdin",
     "output_type": "stream",
     "text": [
      "Enter the first number:  1\n",
      "Enter the second number:  2\n",
      "Enter the third number:  3\n"
     ]
    },
    {
     "name": "stdout",
     "output_type": "stream",
     "text": [
      "Total: 6.0\n",
      "Average: 2.0\n",
      "\n"
     ]
    }
   ],
   "source": [
    "# PROGRAMMING PROBLEM 1\n",
    "def cal_total_average():\n",
    "    num1 = float(input(\"Enter the first number: \"))\n",
    "    num2 = float(input(\"Enter the second number: \"))\n",
    "    num3 = float(input(\"Enter the third number: \"))\n",
    "    \n",
    "    total = num1 + num2 + num3\n",
    "    \n",
    "    average = total / 3\n",
    "    \n",
    "    print(\"Total: {}\".format(total))\n",
    "    print(\"Average: {}\".format(average))\n",
    "    \n",
    "cal_total_average()\n",
    "print()"
   ]
  },
  {
   "cell_type": "code",
   "execution_count": 2,
   "id": "682ddeaf-5ccc-4500-857e-b293a79024a8",
   "metadata": {},
   "outputs": [
    {
     "name": "stdin",
     "output_type": "stream",
     "text": [
      "Enter the price of the meal: P 450\n",
      "Enter the tip percentage (e.g., 10 for 10%):  7\n"
     ]
    },
    {
     "name": "stdout",
     "output_type": "stream",
     "text": [
      "Tip Amount: P31\n",
      "Total Bill with Tip: P481\n",
      "\n"
     ]
    }
   ],
   "source": [
    "# PROGRAMMING PROBLEM 2\n",
    "def cal_tip_total():\n",
    "    meal_price = float(input(\"Enter the price of the meal: P\"))\n",
    "    tip_percentage = float(input(\"Enter the tip percentage (e.g., 10 for 10%): \"))\n",
    "    \n",
    "    tip_amount = meal_price * (tip_percentage / 100)\n",
    "    \n",
    "    total_bill = meal_price + tip_amount\n",
    "    \n",
    "    print(\"Tip Amount: P%d\" % tip_amount)\n",
    "    print(\"Total Bill with Tip: P%d\" % total_bill)\n",
    "\n",
    "cal_tip_total()\n",
    "print()\n"
   ]
  },
  {
   "cell_type": "code",
   "execution_count": 3,
   "id": "3ff6a95f-3997-4cb3-8aa5-9a238fe91a5a",
   "metadata": {},
   "outputs": [
    {
     "name": "stdin",
     "output_type": "stream",
     "text": [
      "Enter a length in centimeters:  45\n"
     ]
    },
    {
     "name": "stdout",
     "output_type": "stream",
     "text": [
      "Length in inches: 17.72\n",
      "\n"
     ]
    }
   ],
   "source": [
    "# PROGRAMMING PROBLEM 3\n",
    "def convert_cm_to_inches():\n",
    "    length_cm = float(input(\"Enter a length in centimeters: \"))\n",
    "\n",
    "    if length_cm < 0:\n",
    "        print(\"Invalid entry. Please enter another number again.\")\n",
    "    else:\n",
    "        length_inches = length_cm / 2.54\n",
    "\n",
    "        print(\"Length in inches: {:.2f}\".format(length_inches))\n",
    "\n",
    "convert_cm_to_inches()\n",
    "print()"
   ]
  },
  {
   "cell_type": "code",
   "execution_count": 4,
   "id": "683407d4-f7c5-4921-9476-3a89a61adb51",
   "metadata": {},
   "outputs": [
    {
     "name": "stdin",
     "output_type": "stream",
     "text": [
      "Enter the radius of the cylinder:  45.5\n",
      "Enter the length of the cylinder:  32.2\n"
     ]
    },
    {
     "name": "stdout",
     "output_type": "stream",
     "text": [
      "Area: 6503.882191094269\n",
      "Volume: 209425.00655323546\n",
      "\n"
     ]
    }
   ],
   "source": [
    "# PROGRAMMING PROBLEM 4\n",
    "import math\n",
    "\n",
    "def compute_cylinder_volume():\n",
    "    radius = float(input(\"Enter the radius of the cylinder: \"))\n",
    "    length = float(input(\"Enter the length of the cylinder: \"))\n",
    "    \n",
    "    area = radius * radius * math.pi\n",
    "    \n",
    "    volume = area * length\n",
    "    \n",
    "    print(\"Area: {}\".format(area))\n",
    "    print(\"Volume: {}\".format(volume))\n",
    "\n",
    "compute_cylinder_volume()\n",
    "print()"
   ]
  },
  {
   "cell_type": "code",
   "execution_count": 5,
   "id": "66b17453-a53b-473e-a05b-9f868cda876b",
   "metadata": {},
   "outputs": [
    {
     "name": "stdin",
     "output_type": "stream",
     "text": [
      "Enter a number in pounds:  22\n"
     ]
    },
    {
     "name": "stdout",
     "output_type": "stream",
     "text": [
      "Equivalent weight in kilograms: 9.988\n",
      "\n"
     ]
    }
   ],
   "source": [
    "# PROGRAMMING PROBLEM 6\n",
    "def convert_pounds_to_kilograms():\n",
    "\n",
    "    pounds = float(input(\"Enter a number in pounds: \"))\n",
    "    \n",
    "    kilograms = pounds * 0.454\n",
    "    \n",
    "    print(\"Equivalent weight in kilograms: {}\".format(kilograms))\n",
    "\n",
    "convert_pounds_to_kilograms()\n",
    "print()"
   ]
  },
  {
   "cell_type": "code",
   "execution_count": 6,
   "id": "b89040c2-9e48-41f6-8ac2-f6357267c8ab",
   "metadata": {},
   "outputs": [
    {
     "name": "stdin",
     "output_type": "stream",
     "text": [
      "Enter the password:  ky\n"
     ]
    },
    {
     "name": "stdout",
     "output_type": "stream",
     "text": [
      "Incorrect password. 2 tries remaining.\n"
     ]
    },
    {
     "name": "stdin",
     "output_type": "stream",
     "text": [
      "Enter the password:  wonu\n"
     ]
    },
    {
     "name": "stdout",
     "output_type": "stream",
     "text": [
      "Incorrect password. 1 tries remaining.\n"
     ]
    },
    {
     "name": "stdin",
     "output_type": "stream",
     "text": [
      "Enter the password:  jeonwonwoo\n"
     ]
    },
    {
     "name": "stdout",
     "output_type": "stream",
     "text": [
      "Successfully logged in to the system.\n",
      "\n"
     ]
    }
   ],
   "source": [
    "# PROGRAMMING PROBLEM 9\n",
    "def check_password():\n",
    "    \n",
    "    correct_password = \"jeonwonwoo\"\n",
    "\n",
    "    max_tries = 3\n",
    "    tries = 0\n",
    "\n",
    "    while tries < max_tries:\n",
    "        \n",
    "        password = input(\"Enter the password: \")\n",
    "\n",
    "        if password == correct_password:\n",
    "            print(\"Successfully logged in to the system.\")\n",
    "            return \n",
    "        else:\n",
    "            tries += 1\n",
    "            remaining_tries = max_tries - tries\n",
    "            print(\"Incorrect password. %d tries remaining.\" % remaining_tries)\n",
    "\n",
    "\n",
    "    print(\"You have exceeded the maximum number of attempts. You are kicked off the system.\")\n",
    "\n",
    "check_password()\n",
    "print()"
   ]
  },
  {
   "cell_type": "code",
   "execution_count": 7,
   "id": "1e6973a2-d156-4292-abb6-c1e88e9b8e0f",
   "metadata": {},
   "outputs": [
    {
     "name": "stdin",
     "output_type": "stream",
     "text": [
      "Enter a weight in kilograms:  45\n"
     ]
    },
    {
     "name": "stdout",
     "output_type": "stream",
     "text": [
      "Equivalent weight in pounds: 99.2079\n",
      "\n"
     ]
    }
   ],
   "source": [
    "# PROGRAMMING PROBLEM 10\n",
    "def convert_kg_to_pounds():\n",
    "    \n",
    "    kg_to_pounds = 2.20462\n",
    "    \n",
    "    while True:\n",
    "        try:\n",
    "            weight_kg = float(input(\"Enter a weight in kilograms: \"))\n",
    "            \n",
    "            if weight_kg < 0:\n",
    "                print(\"Invalid entry. Please enter a weight greater than or equal to 0.\")\n",
    "                continue\n",
    "            \n",
    "            weight_pounds = weight_kg * kg_to_pounds\n",
    "            \n",
    "            print(\"Equivalent weight in pounds: {}\".format(weight_pounds))\n",
    "            break\n",
    "        except ValueError:\n",
    "            print(\"Invalid input. Please enter a valid weight.\")\n",
    "\n",
    "convert_kg_to_pounds()\n",
    "print()"
   ]
  },
  {
   "cell_type": "code",
   "execution_count": 8,
   "id": "0b60037f-18d2-408b-a2b9-d7e898957cd6",
   "metadata": {},
   "outputs": [
    {
     "name": "stdin",
     "output_type": "stream",
     "text": [
      "Enter grade for subject 1:  97\n",
      "Enter grade for subject 2:  98\n",
      "Enter grade for subject 3:  99\n",
      "Enter grade for subject 4:  98\n",
      "Enter grade for subject 5:  97\n"
     ]
    },
    {
     "name": "stdout",
     "output_type": "stream",
     "text": [
      "Average grade: 97.80\n",
      "\n"
     ]
    }
   ],
   "source": [
    "# PROGRAMMING PROBLEM 11\n",
    "def calculate_average_grade():\n",
    "    grades = []\n",
    "    total_grades = 0\n",
    "\n",
    "\n",
    "    for i in range(1, 6):\n",
    "        grade = float(input(\"Enter grade for subject {}: \".format(i)))\n",
    "        grades.append(grade)\n",
    "        total_grades += grade\n",
    "\n",
    "    average_grade = total_grades / len(grades)\n",
    "\n",
    "    print(\"Average grade: {:.2f}\".format(average_grade))\n",
    "\n",
    "calculate_average_grade()\n",
    "print()"
   ]
  },
  {
   "cell_type": "code",
   "execution_count": 10,
   "id": "b0b3f582-5e61-4476-93e9-b8f13739a3fc",
   "metadata": {},
   "outputs": [
    {
     "name": "stdin",
     "output_type": "stream",
     "text": [
      "Enter amount in pesos:  300\n"
     ]
    },
    {
     "name": "stdout",
     "output_type": "stream",
     "text": [
      "Equivalent amount in dollars: 6\n",
      "\n"
     ]
    }
   ],
   "source": [
    "# PROGRAMMING PROBLEM 12\n",
    "def convert_peso_to_dollar():\n",
    "    peso_to_dollar_rate = 0.020\n",
    "\n",
    "    try:\n",
    "        amount_peso = float(input(\"Enter amount in pesos: \"))\n",
    "\n",
    "        amount_dollar = amount_peso * peso_to_dollar_rate\n",
    "        \n",
    "        print(\"Equivalent amount in dollars: %d\" % amount_dollar)\n",
    "    except ValueError:\n",
    "        print(\"Invalid input. Please enter a valid amount.\")\n",
    "\n",
    "convert_peso_to_dollar()\n",
    "print()"
   ]
  },
  {
   "cell_type": "code",
   "execution_count": 12,
   "id": "ec63427e-1f93-4a16-a65c-27357c021e63",
   "metadata": {},
   "outputs": [
    {
     "name": "stdin",
     "output_type": "stream",
     "text": [
      "Enter employee's name:  Claire\n",
      "Enter number of hours worked in a week:  50\n",
      "Enter hourly pay rate:  800\n"
     ]
    },
    {
     "name": "stdout",
     "output_type": "stream",
     "text": [
      "Employee's Name: Claire\n",
      "Gross Pay: 40000.0\n",
      "Deductions: 500\n",
      "Net Pay: 39500.0\n",
      "\n"
     ]
    }
   ],
   "source": [
    "# PROGRAMMING PROBLEM 13\n",
    "def calculate_payroll():\n",
    "    employee_name = input(\"Enter employee's name: \")\n",
    "    hours_worked = float(input(\"Enter number of hours worked in a week: \"))\n",
    "    hourly_rate = float(input(\"Enter hourly pay rate: \"))\n",
    "    \n",
    "    gross_pay = hours_worked * hourly_rate\n",
    "    \n",
    "    deductions = 500\n",
    "    \n",
    "    net_pay = gross_pay - deductions\n",
    "    \n",
    "    print(\"Employee's Name: {}\".format(employee_name))\n",
    "    print(\"Gross Pay: {}\".format(gross_pay))\n",
    "    print(\"Deductions: {}\".format(deductions))\n",
    "    print(\"Net Pay: {}\".format(net_pay))\n",
    "\n",
    "calculate_payroll()\n",
    "print()"
   ]
  },
  {
   "cell_type": "code",
   "execution_count": 14,
   "id": "f94e4782-b0c9-4994-8be9-65b098c0d07e",
   "metadata": {},
   "outputs": [
    {
     "name": "stdin",
     "output_type": "stream",
     "text": [
      "Enter a string:  john patrick godes\n"
     ]
    },
    {
     "name": "stdout",
     "output_type": "stream",
     "text": [
      "Reversed string: sedog kcirtap nhoj\n",
      "\n"
     ]
    }
   ],
   "source": [
    "# PROGRAMMING PROBLEM 14\n",
    "def reverse_string():\n",
    "    user_input = input(\"Enter a string: \")\n",
    "    \n",
    "    reversed_string = user_input[::-1]\n",
    "    \n",
    "    print(\"Reversed string: {}\".format(reversed_string))\n",
    "\n",
    "reverse_string()\n",
    "print()"
   ]
  },
  {
   "cell_type": "code",
   "execution_count": 15,
   "id": "e6a01914-9b60-4a9b-bf1c-f0b48a115ad5",
   "metadata": {},
   "outputs": [
    {
     "name": "stdout",
     "output_type": "stream",
     "text": [
      "Even numbers from the list: [4, 78, 66, 56, 2]\n",
      "\n"
     ]
    }
   ],
   "source": [
    "# PROGRAMMING PROBLEM 15\n",
    "def print_even_numbers(numbers_list):\n",
    "    even_numbers = []\n",
    "\n",
    "    for num in numbers_list:\n",
    "        if num % 2 == 0:\n",
    "            even_numbers.append(num)\n",
    "\n",
    "    print(\"Even numbers from the list: {}\".format(even_numbers))\n",
    "\n",
    "numbers_list = [4, 78, 23, 66, 23, 89, 56, 21, 2]\n",
    "\n",
    "print_even_numbers(numbers_list)\n",
    "print()"
   ]
  },
  {
   "cell_type": "code",
   "execution_count": 16,
   "id": "df4ed4ef-1f42-4be3-92dc-e6fb9bad9201",
   "metadata": {},
   "outputs": [
    {
     "name": "stdout",
     "output_type": "stream",
     "text": [
      "1\n",
      "\n"
     ]
    }
   ],
   "source": [
    "# PROGRAMMING PROBLEM 16\n",
    "def is_palindrome(input_str):\n",
    "    \n",
    "    input_str = input_str.lower().replace(\" \", \"\")\n",
    "    \n",
    "\n",
    "    if input_str == input_str[::-1]:\n",
    "        return 1  \n",
    "    else:\n",
    "        return 0  \n",
    "\n",
    "# Example usage:\n",
    "string_to_check = \"madam\"\n",
    "result = is_palindrome(string_to_check)\n",
    "\n",
    "if result == 1:\n",
    "    print(\"%d\" % result)\n",
    "else:\n",
    "    print(\"%d\" % result)\n",
    "print()"
   ]
  },
  {
   "cell_type": "code",
   "execution_count": 17,
   "id": "ccfaa992-4374-4290-a37f-ba7d4c5012f6",
   "metadata": {},
   "outputs": [
    {
     "name": "stdout",
     "output_type": "stream",
     "text": [
      "Largest item in the list: 24\n",
      "\n"
     ]
    }
   ],
   "source": [
    "# PROGRAMMING PROBLEM 17\n",
    "def find_largest_item(input_list):\n",
    "\n",
    "    if len(input_list) == 0:\n",
    "        print(\"The list is empty.\")\n",
    "        return\n",
    "    \n",
    "    largest_item = max(input_list)\n",
    "    \n",
    "    print(\"Largest item in the list: {}\".format(largest_item))\n",
    "\n",
    "x = [4, 6, 8, 24, 12, 2]\n",
    "\n",
    "find_largest_item(x)\n",
    "print()"
   ]
  },
  {
   "cell_type": "code",
   "execution_count": 18,
   "id": "eae9b8fd-2050-44ef-aa8e-4606daa1d15b",
   "metadata": {},
   "outputs": [
    {
     "name": "stdout",
     "output_type": "stream",
     "text": [
      "The number 11 is not even.\n",
      "\n"
     ]
    }
   ],
   "source": [
    "# PROGRAMMING PROBLEM 18\n",
    "def even(number):\n",
    "    if number % 2 == 0:\n",
    "        return True\n",
    "    else:\n",
    "        return False\n",
    "\n",
    "# Example usage:\n",
    "num_to_check = 11\n",
    "result = even(num_to_check)\n",
    "\n",
    "if result:\n",
    "    print(\"The number {} is even.\".format(num_to_check))\n",
    "else:\n",
    "    print(\"The number {} is not even.\".format(num_to_check))\n",
    "print()"
   ]
  },
  {
   "cell_type": "code",
   "execution_count": 19,
   "id": "b560d85d-d099-4041-b61e-d2030c0ab2e2",
   "metadata": {},
   "outputs": [
    {
     "name": "stdout",
     "output_type": "stream",
     "text": [
      "The sum of numbers from 11 to 21 is: 176\n",
      "\n"
     ]
    }
   ],
   "source": [
    "# PROGRAMMING PROBLEM 19\n",
    "def sum_numbers(low, high):\n",
    "    total_sum = 0\n",
    "    \n",
    "    for num in range(low, high + 1):\n",
    "        total_sum += num\n",
    "    \n",
    "    return total_sum\n",
    "\n",
    "low_num = 11\n",
    "high_num = 21\n",
    "result_sum = sum_numbers(low_num, high_num)\n",
    "\n",
    "print(\"The sum of numbers from {} to {} is: {}\".format(low_num, high_num, result_sum))\n",
    "\n",
    "print()"
   ]
  },
  {
   "cell_type": "code",
   "execution_count": 20,
   "id": "df1abf41-3486-48f1-97ff-f2d7c571a5dc",
   "metadata": {},
   "outputs": [
    {
     "name": "stdin",
     "output_type": "stream",
     "text": [
      "Enter a number:  12\n"
     ]
    },
    {
     "name": "stdout",
     "output_type": "stream",
     "text": [
      "f_1(12.0) = 17.0\n",
      "f_2(12.0) = 34.0\n",
      "\n"
     ]
    }
   ],
   "source": [
    "# PROGRAMMING PROBLEM 20\n",
    "def f_1(number):\n",
    "    return number + 5\n",
    "\n",
    "def f_2(number):\n",
    "    result_f1 = f_1(number)\n",
    "    return result_f1 * 2\n",
    "\n",
    "# Ask the user to input a number\n",
    "input_number = float(input(\"Enter a number: \"))\n",
    "\n",
    "result_f1 = f_1(input_number)\n",
    "result_f2 = f_2(input_number)\n",
    "\n",
    "print(\"f_1({}) = {}\".format(input_number, result_f1))\n",
    "print(\"f_2({}) = {}\".format(input_number, result_f2))\n",
    "\n",
    "print()"
   ]
  },
  {
   "cell_type": "code",
   "execution_count": 21,
   "id": "4c4b2cb9-4f71-4c20-b6c9-36d0980d330c",
   "metadata": {},
   "outputs": [
    {
     "name": "stdout",
     "output_type": "stream",
     "text": [
      "The sum of numbers in the list is: 25\n",
      "\n"
     ]
    }
   ],
   "source": [
    "# PROGRAMMING PROBLEM 21\n",
    "def sum_list_numbers(numbers_list):\n",
    "    total_sum = sum(numbers_list)\n",
    "    return total_sum\n",
    "\n",
    "my_list = [1, 3, 5, 7, 9]\n",
    "\n",
    "result_sum = sum_list_numbers(my_list)\n",
    "\n",
    "print(\"The sum of numbers in the list is: %d\" % result_sum)\n",
    "\n",
    "print()"
   ]
  },
  {
   "cell_type": "code",
   "execution_count": 22,
   "id": "c48253da-2134-4088-b0b7-a9fa548867ff",
   "metadata": {},
   "outputs": [
    {
     "name": "stdout",
     "output_type": "stream",
     "text": [
      "The product of numbers in the list is: 945\n",
      "\n"
     ]
    }
   ],
   "source": [
    "# PROGRAMMING PROBLEM 22\n",
    "def multiply_list_numbers(numbers_list):\n",
    "    result = 1\n",
    "    \n",
    "    for num in numbers_list:\n",
    "        result *= num\n",
    "    \n",
    "    return result\n",
    "\n",
    "my_list1 = [1, 2, 3, 4, 5]\n",
    "\n",
    "result_product = multiply_list_numbers(my_list)\n",
    "\n",
    "print(\"The product of numbers in the list is:\", result_product)\n",
    "\n",
    "print()"
   ]
  },
  {
   "cell_type": "code",
   "execution_count": 24,
   "id": "0e7c2a8b-9454-4e11-bef7-4e9c7df37285",
   "metadata": {},
   "outputs": [
    {
     "name": "stdout",
     "output_type": "stream",
     "text": [
      "Total cost for 3 nights: 2670\n",
      "\n"
     ]
    }
   ],
   "source": [
    "# PROGRAMMING PROBLEM 23\n",
    "def hotel_cost(nights):\n",
    "    return 890 * nights\n",
    "\n",
    "# Example usage:\n",
    "num_nights = 3\n",
    "total_cost = hotel_cost(num_nights)\n",
    "\n",
    "print(\"Total cost for {} nights: {}\".format(num_nights, total_cost))\n",
    "\n",
    "print()"
   ]
  },
  {
   "cell_type": "code",
   "execution_count": 25,
   "id": "1f411b9a-4637-45dc-b16f-d1d9e6f293da",
   "metadata": {},
   "outputs": [
    {
     "name": "stdout",
     "output_type": "stream",
     "text": [
      "Round-trip price for Japan is: 18300\n",
      "\n"
     ]
    }
   ],
   "source": [
    "# PROGRAMMING PROBLEM 24\n",
    "def plane_ride_cost(country):\n",
    "    prices = {\n",
    "        \"Japan\": 18300,\n",
    "        \"South Korea\": 22000,\n",
    "        \"Canada\": 22200,\n",
    "        \"Los Angeles\": 47500\n",
    "    }\n",
    "\n",
    "    if country in prices:\n",
    "        return prices[country]\n",
    "    else:\n",
    "        return \"Invalid country\"\n",
    "\n",
    "destination = \"Japan\"\n",
    "price = plane_ride_cost(destination)\n",
    "\n",
    "if price != \"Invalid country\":\n",
    "    print(\"Round-trip price for {} is: {}\".format(destination, price))\n",
    "else:\n",
    "    print(\"Invalid country entered.\")\n",
    "\n",
    "print()"
   ]
  },
  {
   "cell_type": "code",
   "execution_count": 26,
   "id": "c64420b6-37d6-4460-a341-62a4d4f76270",
   "metadata": {},
   "outputs": [
    {
     "name": "stdin",
     "output_type": "stream",
     "text": [
      "Enter 'yes' or 'no':  no\n"
     ]
    },
    {
     "name": "stdout",
     "output_type": "stream",
     "text": [
      "Result: Shutdown aborted\n",
      "\n"
     ]
    }
   ],
   "source": [
    "# PROGRAMMING PROBLEM 25\n",
    "def shut_down(s):\n",
    "    if s == \"yes\":\n",
    "        return \"Shutting down\"\n",
    "    elif s == \"no\":\n",
    "        return \"Shutdown aborted\"\n",
    "    else:\n",
    "        return \"Sorry\"\n",
    "\n",
    "user_input = input(\"Enter 'yes' or 'no': \")\n",
    "result = shut_down(user_input)\n",
    "\n",
    "print(\"Result: %s\" % result)\n",
    "\n",
    "print()"
   ]
  },
  {
   "cell_type": "code",
   "execution_count": 27,
   "id": "13b909c2-f350-44d7-afcf-def5b7d93cfa",
   "metadata": {},
   "outputs": [
    {
     "name": "stdout",
     "output_type": "stream",
     "text": [
      "Square of 1 is: 1\n",
      "Square of 2 is: 4\n",
      "Square of 3 is: 9\n",
      "Square of 4 is: 16\n",
      "Square of 5 is: 25\n",
      "Square of 6 is: 36\n",
      "Square of 7 is: 49\n",
      "Square of 8 is: 64\n",
      "Square of 9 is: 81\n",
      "Square of 10 is: 100\n",
      "Square of 11 is: 121\n",
      "Square of 12 is: 144\n",
      "Square of 13 is: 169\n",
      "Square of 14 is: 196\n",
      "Square of 15 is: 225\n",
      "Square of 16 is: 256\n",
      "Square of 17 is: 289\n",
      "Square of 18 is: 324\n",
      "Square of 19 is: 361\n",
      "Square of 20 is: 400\n",
      "Square of 21 is: 441\n",
      "Square of 22 is: 484\n",
      "Square of 23 is: 529\n",
      "Square of 24 is: 576\n",
      "Square of 25 is: 625\n",
      "Square of 26 is: 676\n",
      "Square of 27 is: 729\n",
      "Square of 28 is: 784\n",
      "Square of 29 is: 841\n",
      "Square of 30 is: 900\n"
     ]
    }
   ],
   "source": [
    "# PROGRAMMING PROBLEM 26\n",
    "def create_square_list():\n",
    "    square_list = [num**2 for num in range(1, 31)]\n",
    "    return square_list\n",
    "\n",
    "squares = create_square_list()\n",
    "\n",
    "for i, num in enumerate(squares, 1):\n",
    "    print(\"Square of {} is: {}\".format(i, num))\n"
   ]
  },
  {
   "cell_type": "code",
   "execution_count": null,
   "id": "b7a6b83c-e290-4871-92b7-3bf46057d420",
   "metadata": {},
   "outputs": [],
   "source": []
  }
 ],
 "metadata": {
  "kernelspec": {
   "display_name": "Python 3 (ipykernel)",
   "language": "python",
   "name": "python3"
  },
  "language_info": {
   "codemirror_mode": {
    "name": "ipython",
    "version": 3
   },
   "file_extension": ".py",
   "mimetype": "text/x-python",
   "name": "python",
   "nbconvert_exporter": "python",
   "pygments_lexer": "ipython3",
   "version": "3.11.7"
  }
 },
 "nbformat": 4,
 "nbformat_minor": 5
}
